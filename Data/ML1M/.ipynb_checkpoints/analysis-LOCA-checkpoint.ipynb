{
 "cells": [
  {
   "cell_type": "code",
   "execution_count": 1,
   "metadata": {},
   "outputs": [],
   "source": [
    "import numpy as np\n",
    "import pickle\n",
    "import pandas as pd\n",
    "from tqdm import tqdm\n",
    "from math import log\n",
    "from scipy.sparse import coo_matrix\n",
    "import seaborn as sns\n",
    "import matplotlib.pyplot as plt\n",
    "from scipy.stats import skew\n",
    "from scipy.stats import mode"
   ]
  },
  {
   "cell_type": "code",
   "execution_count": 2,
   "metadata": {},
   "outputs": [],
   "source": [
    "with open('./info.pkl', 'rb') as f:\n",
    "    info = pickle.load(f)\n",
    "    num_user = info['num_user']\n",
    "    num_item = info['num_item']\n",
    "\n",
    "train_df = pd.read_csv('./train_df.csv')\n",
    "\n",
    "train_like = list(np.load('./user_train_like.npy', allow_pickle=True))\n",
    "test_like = list(np.load('./user_test_like.npy', allow_pickle=True))"
   ]
  },
  {
   "cell_type": "code",
   "execution_count": 3,
   "metadata": {},
   "outputs": [],
   "source": [
    "pos_user_array = train_df['userId'].values\n",
    "pos_item_array = train_df['itemId'].values\n",
    "train_mat = coo_matrix((np.ones(len(pos_user_array)), (pos_user_array, pos_item_array)), shape=(num_user, num_item)).toarray()\n",
    "\n",
    "user_pop = np.sum(train_mat, axis=1)\n",
    "item_pop = np.sum(train_mat, axis=0)\n",
    "user_item_pop = np.sum(train_mat * item_pop.reshape((1, -1)), axis=1) / (np.sum(train_mat, axis=1) + 1e-7)\n",
    "\n",
    "Rec = np.load('./Rec_LOCA.npy')"
   ]
  },
  {
   "cell_type": "code",
   "execution_count": 4,
   "metadata": {},
   "outputs": [],
   "source": [
    "top1 = 1\n",
    "top2 = 5\n",
    "top3 = 10\n",
    "top4 = 20\n",
    "k_set = [top1, top2, top3, top4]\n",
    "def user_precision_recall_ndcg(new_user_prediction, test):\n",
    "    dcg_list = []\n",
    "\n",
    "    # compute the number of true positive items at top k\n",
    "    count_1, count_5, count_10, count_15 = 0, 0, 0, 0\n",
    "    for i in range(k_set[3]):\n",
    "        if i < k_set[0] and new_user_prediction[i] in test:\n",
    "            count_1 += 1.0\n",
    "        if i < k_set[1] and new_user_prediction[i] in test:\n",
    "            count_5 += 1.0\n",
    "        if i < k_set[2] and new_user_prediction[i] in test:\n",
    "            count_10 += 1.0\n",
    "        if new_user_prediction[i] in test:\n",
    "            count_15 += 1.0\n",
    "            dcg_list.append(1)\n",
    "        else:\n",
    "            dcg_list.append(0)\n",
    "\n",
    "    # calculate NDCG@k\n",
    "    idcg_list = [1 for i in range(len(test))]\n",
    "    ndcg_tmp_1 = NDCG_at_k(dcg_list, idcg_list, k_set[0])\n",
    "    ndcg_tmp_5 = NDCG_at_k(dcg_list, idcg_list, k_set[1])\n",
    "    ndcg_tmp_10 = NDCG_at_k(dcg_list, idcg_list, k_set[2])\n",
    "    ndcg_tmp_15 = NDCG_at_k(dcg_list, idcg_list, k_set[3])\n",
    "\n",
    "    # precision@k\n",
    "    precision_1 = count_1 * 1.0 / k_set[0]\n",
    "    precision_5 = count_5 * 1.0 / k_set[1]\n",
    "    precision_10 = count_10 * 1.0 / k_set[2]\n",
    "    precision_15 = count_15 * 1.0 / k_set[3]\n",
    "\n",
    "    l = len(test)\n",
    "    if l == 0:\n",
    "        l = 1\n",
    "    # recall@k\n",
    "    recall_1 = count_1 / l\n",
    "    recall_5 = count_5 / l\n",
    "    recall_10 = count_10 / l\n",
    "    recall_15 = count_15 / l\n",
    "\n",
    "    # return precision, recall, ndcg_tmp\n",
    "    return np.array([precision_1, precision_5, precision_10, precision_15]), \\\n",
    "           np.array([recall_1, recall_5, recall_10, recall_15]), \\\n",
    "           np.array([ndcg_tmp_1, ndcg_tmp_5, ndcg_tmp_10, ndcg_tmp_15])\n",
    "\n",
    "def NDCG_at_k(predicted_list, ground_truth, k):\n",
    "    dcg_value = [(v / log(i + 1 + 1, 2)) for i, v in enumerate(predicted_list[:k])]\n",
    "    dcg = np.sum(dcg_value)\n",
    "    if len(ground_truth) < k:\n",
    "        ground_truth += [0 for i in range(k - len(ground_truth))]\n",
    "    idcg_value = [(v / log(i + 1 + 1, 2)) for i, v in enumerate(ground_truth[:k])]\n",
    "    idcg = np.sum(idcg_value)\n",
    "    return dcg / idcg"
   ]
  },
  {
   "cell_type": "code",
   "execution_count": 5,
   "metadata": {},
   "outputs": [
    {
     "name": "stderr",
     "output_type": "stream",
     "text": [
      "100%|██████████| 6040/6040 [00:01<00:00, 3719.95it/s]\n"
     ]
    }
   ],
   "source": [
    "user_precision = []\n",
    "user_recall = []\n",
    "user_ndcg = []\n",
    "for u in range(num_user):\n",
    "    Rec[u, train_like[u]] = -100000.0\n",
    "\n",
    "for u in tqdm(range(num_user)):\n",
    "    scores = Rec[u, :]\n",
    "    top_iid = np.argpartition(scores, -20)[-20:]\n",
    "    top_iid = top_iid[np.argsort(scores[top_iid])[-1::-1]]\n",
    "\n",
    "    # calculate the metrics\n",
    "    if not len(test_like[u]) == 0:\n",
    "        precision_u, recall_u, ndcg_u = user_precision_recall_ndcg(top_iid, test_like[u])\n",
    "    else:\n",
    "        precision_u = recall_u = ndcg_u = [-1, -1, -1, -1]\n",
    "    user_precision.append(precision_u)\n",
    "    user_recall.append(recall_u)\n",
    "    user_ndcg.append(ndcg_u)"
   ]
  },
  {
   "cell_type": "code",
   "execution_count": 6,
   "metadata": {},
   "outputs": [],
   "source": [
    "ndcg = np.array(user_ndcg)[:, 3]"
   ]
  },
  {
   "cell_type": "code",
   "execution_count": 7,
   "metadata": {},
   "outputs": [
    {
     "data": {
      "text/plain": [
       "array([0.37417219, 0.33664574, 0.31964859, 0.31531919])"
      ]
     },
     "execution_count": 7,
     "metadata": {},
     "output_type": "execute_result"
    }
   ],
   "source": [
    "np.mean(user_ndcg, axis=0)"
   ]
  },
  {
   "cell_type": "code",
   "execution_count": 8,
   "metadata": {},
   "outputs": [],
   "source": [
    "MS_similarity = np.load('./MS_similarity.npy')\n",
    "MS_density = np.load('./MS_density.npy')\n",
    "MS_distribution = np.load('./MS_distribution.npy')\n",
    "MS_DeepSVDD = np.load('./MS_DeepSVDD.npy')"
   ]
  },
  {
   "cell_type": "code",
   "execution_count": 9,
   "metadata": {},
   "outputs": [],
   "source": [
    "def distribution_plot(x, y, bins=20):\n",
    "    x_max = np.max(x)\n",
    "    x_min = np.min(x)\n",
    "    step = (x_max - x_min) / bins\n",
    "    x_array = []\n",
    "    mean_array = []\n",
    "    std_array = []\n",
    "    for i in range(bins):\n",
    "        start = x_min + step * i\n",
    "        end = x_min + step * (i + 1)\n",
    "        x_array.append((start + end) / 2)\n",
    "        tmp = y[np.where((x >= start) & (x <= end))[0]]\n",
    "        mean_array.append(np.mean(tmp) if len(tmp) > 0 else 0)\n",
    "        std_array.append(np.std(tmp) if len(tmp) > 0 else 0)\n",
    "    print(mean_array)\n",
    "    plt.rcParams.update({'font.size': 15})\n",
    "    fig, axes = plt.subplots(nrows=1, ncols=1, figsize=(7, 3))\n",
    "    axes.bar(x_array, mean_array, yerr=std_array, align='center', alpha=0.7, ecolor='black', capsize=5, width=step / 2)\n",
    "    axes.grid(True)\n",
    "    axes.set_ylim(0., 0.6)\n",
    "    fig.tight_layout()\n",
    "    fig.patch.set_facecolor('white')\n",
    "    plt.show()\n",
    "    "
   ]
  },
  {
   "cell_type": "code",
   "execution_count": 10,
   "metadata": {},
   "outputs": [
    {
     "name": "stdout",
     "output_type": "stream",
     "text": [
      "[0.20559711784026394, 0.2665615128256427, 0.2915172571881603, 0.3562742582715086, 0.4566458031774113]\n"
     ]
    },
    {
     "data": {
      "image/png": "[encoded data removed]",
      "text/plain": [
       "<Figure size 504x216 with 1 Axes>"
      ]
     },
     "metadata": {},
     "output_type": "display_data"
    }
   ],
   "source": [
    "user_sort_idx = np.argsort(MS_similarity)\n",
    "distribution_plot(np.arange(num_user), ndcg[user_sort_idx], bins=5)"
   ]
  },
  {
   "cell_type": "code",
   "execution_count": 11,
   "metadata": {},
   "outputs": [
    {
     "name": "stdout",
     "output_type": "stream",
     "text": [
      "[0.22185109697620362, 0.2658186623242934, 0.2789382834840373, 0.3430755654184518, 0.46691234110000074]\n"
     ]
    },
    {
     "data": {
      "image/png": "[encoded data removed]",
      "text/plain": [
       "<Figure size 504x216 with 1 Axes>"
      ]
     },
     "metadata": {},
     "output_type": "display_data"
    }
   ],
   "source": [
    "user_sort_idx = np.argsort(MS_density)\n",
    "distribution_plot(np.arange(num_user), ndcg[user_sort_idx], bins=5)"
   ]
  },
  {
   "cell_type": "code",
   "execution_count": 12,
   "metadata": {},
   "outputs": [
    {
     "name": "stdout",
     "output_type": "stream",
     "text": [
      "[0.20593216822628685, 0.2666128189202993, 0.28615415392216076, 0.34075309010074706, 0.4771437181334929]\n"
     ]
    },
    {
     "data": {
      "image/png": "[encoded data removed]",
      "text/plain": [
       "<Figure size 504x216 with 1 Axes>"
      ]
     },
     "metadata": {},
     "output_type": "display_data"
    }
   ],
   "source": [
    "user_sort_idx = np.argsort(MS_distribution)\n",
    "distribution_plot(np.arange(num_user), ndcg[user_sort_idx], bins=5)"
   ]
  },
  {
   "cell_type": "code",
   "execution_count": 13,
   "metadata": {},
   "outputs": [
    {
     "name": "stdout",
     "output_type": "stream",
     "text": [
      "[0.20923292682662273, 0.2641732042941252, 0.283232858458271, 0.33683140489496743, 0.48312555482900055]\n"
     ]
    },
    {
     "data": {
      "image/png": "[encoded data removed]",
      "text/plain": [
       "<Figure size 504x216 with 1 Axes>"
      ]
     },
     "metadata": {},
     "output_type": "display_data"
    }
   ],
   "source": [
    "user_sort_idx = np.argsort(MS_DeepSVDD)\n",
    "distribution_plot(np.arange(num_user), ndcg[user_sort_idx], bins=5)"
   ]
  },
  {
   "cell_type": "code",
   "execution_count": null,
   "metadata": {},
   "outputs": [],
   "source": []
  }
 ],
 "metadata": {
  "kernelspec": {
   "display_name": "Python 3",
   "language": "python",
   "name": "python3"
  },
  "language_info": {
   "codemirror_mode": {
    "name": "ipython",
    "version": 3
   },
   "file_extension": ".py",
   "mimetype": "text/x-python",
   "name": "python",
   "nbconvert_exporter": "python",
   "pygments_lexer": "ipython3",
   "version": "3.7.7"
  }
 },
 "nbformat": 4,
 "nbformat_minor": 4
}
