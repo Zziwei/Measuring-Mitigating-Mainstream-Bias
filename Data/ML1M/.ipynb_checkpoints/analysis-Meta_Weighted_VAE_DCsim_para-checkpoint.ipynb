{
 "cells": [
  {
   "cell_type": "code",
   "execution_count": 1,
   "metadata": {},
   "outputs": [],
   "source": [
    "import numpy as np\n",
    "import pickle\n",
    "import pandas as pd\n",
    "from tqdm import tqdm\n",
    "from math import log\n",
    "from scipy.sparse import coo_matrix\n",
    "import seaborn as sns\n",
    "import matplotlib.pyplot as plt\n",
    "from scipy.stats import skew\n",
    "from scipy.stats import mode"
   ]
  },
  {
   "cell_type": "code",
   "execution_count": 2,
   "metadata": {},
   "outputs": [],
   "source": [
    "def gini_coefficient(sorted_array):\n",
    "    n = len(sorted_array)\n",
    "    return np.sum(((np.arange(n) + 1.) * 2 - n - 1) * sorted_array) / (n * np.sum(sorted_array))"
   ]
  },
  {
   "cell_type": "code",
   "execution_count": 3,
   "metadata": {},
   "outputs": [],
   "source": [
    "with open('./info.pkl', 'rb') as f:\n",
    "    info = pickle.load(f)\n",
    "    num_user = info['num_user']\n",
    "    num_item = info['num_item']\n",
    "\n",
    "train_df = pd.read_csv('./train_df.csv')\n",
    "\n",
    "train_like = list(np.load('./user_train_like.npy', allow_pickle=True))\n",
    "test_like = list(np.load('./user_test_like.npy', allow_pickle=True))"
   ]
  },
  {
   "cell_type": "code",
   "execution_count": 4,
   "metadata": {},
   "outputs": [],
   "source": [
    "pos_user_array = train_df['userId'].values\n",
    "pos_item_array = train_df['itemId'].values\n",
    "train_mat = coo_matrix((np.ones(len(pos_user_array)), (pos_user_array, pos_item_array)), shape=(num_user, num_item)).toarray()\n",
    "\n",
    "user_pop = np.sum(train_mat, axis=1)\n",
    "item_pop = np.sum(train_mat, axis=0)\n",
    "user_item_pop = np.sum(train_mat * item_pop.reshape((1, -1)), axis=1) / (np.sum(train_mat, axis=1) + 1e-7)\n",
    "\n",
    "Rec = np.load('./Rec_Meta_Weighted_VAE_DCsim.npy')"
   ]
  },
  {
   "cell_type": "code",
   "execution_count": 5,
   "metadata": {},
   "outputs": [],
   "source": [
    "top1 = 1\n",
    "top2 = 5\n",
    "top3 = 10\n",
    "top4 = 20\n",
    "k_set = [top1, top2, top3, top4]\n",
    "def user_precision_recall_ndcg(new_user_prediction, test):\n",
    "    dcg_list = []\n",
    "\n",
    "    # compute the number of true positive items at top k\n",
    "    count_1, count_5, count_10, count_15 = 0, 0, 0, 0\n",
    "    for i in range(k_set[3]):\n",
    "        if i < k_set[0] and new_user_prediction[i] in test:\n",
    "            count_1 += 1.0\n",
    "        if i < k_set[1] and new_user_prediction[i] in test:\n",
    "            count_5 += 1.0\n",
    "        if i < k_set[2] and new_user_prediction[i] in test:\n",
    "            count_10 += 1.0\n",
    "        if new_user_prediction[i] in test:\n",
    "            count_15 += 1.0\n",
    "            dcg_list.append(1)\n",
    "        else:\n",
    "            dcg_list.append(0)\n",
    "\n",
    "    # calculate NDCG@k\n",
    "    idcg_list = [1 for i in range(len(test))]\n",
    "    ndcg_tmp_1 = NDCG_at_k(dcg_list, idcg_list, k_set[0])\n",
    "    ndcg_tmp_5 = NDCG_at_k(dcg_list, idcg_list, k_set[1])\n",
    "    ndcg_tmp_10 = NDCG_at_k(dcg_list, idcg_list, k_set[2])\n",
    "    ndcg_tmp_15 = NDCG_at_k(dcg_list, idcg_list, k_set[3])\n",
    "\n",
    "    # precision@k\n",
    "    precision_1 = count_1 * 1.0 / k_set[0]\n",
    "    precision_5 = count_5 * 1.0 / k_set[1]\n",
    "    precision_10 = count_10 * 1.0 / k_set[2]\n",
    "    precision_15 = count_15 * 1.0 / k_set[3]\n",
    "\n",
    "    l = len(test)\n",
    "    if l == 0:\n",
    "        l = 1\n",
    "    # recall@k\n",
    "    recall_1 = count_1 / l\n",
    "    recall_5 = count_5 / l\n",
    "    recall_10 = count_10 / l\n",
    "    recall_15 = count_15 / l\n",
    "\n",
    "    # return precision, recall, ndcg_tmp\n",
    "    return np.array([precision_1, precision_5, precision_10, precision_15]), \\\n",
    "           np.array([recall_1, recall_5, recall_10, recall_15]), \\\n",
    "           np.array([ndcg_tmp_1, ndcg_tmp_5, ndcg_tmp_10, ndcg_tmp_15])\n",
    "\n",
    "def NDCG_at_k(predicted_list, ground_truth, k):\n",
    "    dcg_value = [(v / log(i + 1 + 1, 2)) for i, v in enumerate(predicted_list[:k])]\n",
    "    dcg = np.sum(dcg_value)\n",
    "    if len(ground_truth) < k:\n",
    "        ground_truth += [0 for i in range(k - len(ground_truth))]\n",
    "    idcg_value = [(v / log(i + 1 + 1, 2)) for i, v in enumerate(ground_truth[:k])]\n",
    "    idcg = np.sum(idcg_value)\n",
    "    return dcg / idcg"
   ]
  },
  {
   "cell_type": "code",
   "execution_count": 6,
   "metadata": {},
   "outputs": [
    {
     "name": "stderr",
     "output_type": "stream",
     "text": [
      "100%|██████████| 6040/6040 [00:01<00:00, 3636.19it/s]\n"
     ]
    }
   ],
   "source": [
    "user_precision = []\n",
    "user_recall = []\n",
    "user_ndcg = []\n",
    "for u in range(num_user):\n",
    "    Rec[u, train_like[u]] = -100000.0\n",
    "\n",
    "for u in tqdm(range(num_user)):\n",
    "    scores = Rec[u, :]\n",
    "    top_iid = np.argpartition(scores, -20)[-20:]\n",
    "    top_iid = top_iid[np.argsort(scores[top_iid])[-1::-1]]\n",
    "\n",
    "    # calculate the metrics\n",
    "    if not len(test_like[u]) == 0:\n",
    "        precision_u, recall_u, ndcg_u = user_precision_recall_ndcg(top_iid, test_like[u])\n",
    "    else:\n",
    "        precision_u = recall_u = ndcg_u = [-1, -1, -1, -1]\n",
    "    user_precision.append(precision_u)\n",
    "    user_recall.append(recall_u)\n",
    "    user_ndcg.append(ndcg_u)"
   ]
  },
  {
   "cell_type": "code",
   "execution_count": 7,
   "metadata": {},
   "outputs": [],
   "source": [
    "ndcg = np.array(user_ndcg)[:, 3]"
   ]
  },
  {
   "cell_type": "code",
   "execution_count": 8,
   "metadata": {},
   "outputs": [
    {
     "data": {
      "text/plain": [
       "array([0.40198675, 0.35519147, 0.33807983, 0.33396327])"
      ]
     },
     "execution_count": 8,
     "metadata": {},
     "output_type": "execute_result"
    }
   ],
   "source": [
    "np.mean(user_ndcg, axis=0)"
   ]
  },
  {
   "cell_type": "code",
   "execution_count": 9,
   "metadata": {},
   "outputs": [],
   "source": [
    "MSV_Jsim = np.load('./MSV_Jsim.npy')\n",
    "MSV_LOF = np.load('./MSV_LOF.npy')\n",
    "MSV_Asim = np.load('./MSV_Asim.npy')\n",
    "MSV_DeepSVDD = np.load('./MSV_DeepSVDD.npy')"
   ]
  },
  {
   "cell_type": "code",
   "execution_count": 10,
   "metadata": {},
   "outputs": [],
   "source": [
    "def distribution_plot(x, y, bins=20):\n",
    "    x_max = np.max(x)\n",
    "    x_min = np.min(x)\n",
    "    step = (x_max - x_min) / bins\n",
    "    x_array = []\n",
    "    mean_array = []\n",
    "    std_array = []\n",
    "    for i in range(bins):\n",
    "        start = x_min + step * i\n",
    "        end = x_min + step * (i + 1)\n",
    "        x_array.append((start + end) / 2)\n",
    "        tmp = y[np.where((x >= start) & (x <= end))[0]]\n",
    "        mean_array.append(np.mean(tmp) if len(tmp) > 0 else 0)\n",
    "        std_array.append(np.std(tmp) if len(tmp) > 0 else 0)\n",
    "#     print(x_array)\n",
    "    print(mean_array)\n",
    "    "
   ]
  },
  {
   "cell_type": "code",
   "execution_count": 11,
   "metadata": {},
   "outputs": [],
   "source": [
    "num = [10, 20, 40, 50, 60, 70, 80, 90, 0.08, 0.11, 0.14, 0.17, 0.23, 0.26, 0.29, 0.32]"
   ]
  },
  {
   "cell_type": "code",
   "execution_count": 12,
   "metadata": {},
   "outputs": [
    {
     "name": "stdout",
     "output_type": "stream",
     "text": [
      "10\n",
      "[0.3986755  0.35069208 0.33366668 0.33120702]\n",
      "[0.24767185623617496, 0.28439327347530396, 0.2933603794511913, 0.342553392291518, 0.488056195892837]\n",
      "\n",
      "20\n",
      "[0.40049669 0.355382   0.33896416 0.33568521]\n",
      "[0.2522690939967766, 0.2870789792672504, 0.2973870542263071, 0.3466855609922721, 0.4950053557626626]\n",
      "\n",
      "40\n",
      "[0.39834437 0.35718986 0.34058535 0.33808343]\n",
      "[0.2568219914378601, 0.2897855586017568, 0.2980710030028633, 0.3500312783201907, 0.49570733534541783]\n",
      "\n",
      "50\n",
      "[0.40281457 0.35946006 0.34161787 0.33922607]\n",
      "[0.26063604169277044, 0.29025103369867006, 0.2982474612045863, 0.3516962701133355, 0.4952995314083472]\n",
      "\n",
      "60\n",
      "[0.40115894 0.35765629 0.34084493 0.33952147]\n",
      "[0.26164440791901883, 0.28995528801383014, 0.29951063396617267, 0.35262089056544477, 0.4938761123111245]\n",
      "\n",
      "70\n",
      "[0.39884106 0.35627887 0.33990769 0.33875733]\n",
      "[0.2615703558663046, 0.2901285422831612, 0.2987570948541314, 0.35148352112284414, 0.4918471426788819]\n",
      "\n",
      "80\n",
      "[0.3968543  0.35579184 0.33836187 0.33787874]\n",
      "[0.26043054222549566, 0.2900164374446024, 0.29688541010518443, 0.35161979566290735, 0.49044149704800905]\n",
      "\n",
      "90\n",
      "[0.39536424 0.3533305  0.33680237 0.33678391]\n",
      "[0.2610235462795629, 0.29034743574801064, 0.295053437064153, 0.34974083573384224, 0.48775430461355224]\n",
      "\n",
      "0.11\n",
      "[0.39817881 0.35571512 0.33785936 0.33435177]\n",
      "[0.24385706593390577, 0.28596132454093887, 0.2990112472186541, 0.3485349572772912, 0.4943942487575222]\n",
      "\n",
      "0.14\n",
      "[0.40264901 0.35676675 0.33990557 0.33580743]\n",
      "[0.24955410017976523, 0.2868543655983615, 0.29785812081302615, 0.3488515662724423, 0.49591899326868166]\n",
      "\n",
      "0.17\n",
      "[0.40364238 0.35737003 0.34007843 0.33686945]\n",
      "[0.25337200278403327, 0.2878813576538663, 0.2987066262211917, 0.34878565103802206, 0.49560162308324524]\n",
      "\n",
      "0.23\n",
      "[0.39718543 0.35589342 0.33925962 0.33646327]\n",
      "[0.25213098242735993, 0.28660337340857606, 0.2983458596978746, 0.3497102289347742, 0.495525920595787]\n",
      "\n",
      "0.26\n",
      "[0.39006623 0.35255471 0.33740643 0.33486407]\n",
      "[0.24841040113185708, 0.2853484701136205, 0.2961879937333714, 0.3493905979545625, 0.49498289035934556]\n",
      "\n",
      "0.29\n",
      "[0.39238411 0.34967878 0.33529038 0.33312549]\n",
      "[0.24724860048604597, 0.28250881312696324, 0.29326353342793765, 0.3471248515606033, 0.4954816601180225]\n",
      "\n"
     ]
    }
   ],
   "source": [
    "for i in range(len(num)):\n",
    "    print(str(num[i]))\n",
    "    Rec = np.load('./Rec_Meta_Weighted_VAE_DCsim_' + str(num[i]) +'.npy')\n",
    "    \n",
    "    user_precision = []\n",
    "    user_recall = []\n",
    "    user_ndcg = []\n",
    "    for u in range(num_user):\n",
    "        Rec[u, train_like[u]] = -100000.0\n",
    "\n",
    "    for u in range(num_user):\n",
    "        scores = Rec[u, :]\n",
    "        top_iid = np.argpartition(scores, -20)[-20:]\n",
    "        top_iid = top_iid[np.argsort(scores[top_iid])[-1::-1]]\n",
    "\n",
    "        # calculate the metrics\n",
    "        if not len(test_like[u]) == 0:\n",
    "            precision_u, recall_u, ndcg_u = user_precision_recall_ndcg(top_iid, test_like[u])\n",
    "        else:\n",
    "            precision_u = recall_u = ndcg_u = [-1, -1, -1, -1]\n",
    "        user_precision.append(precision_u)\n",
    "        user_recall.append(recall_u)\n",
    "        user_ndcg.append(ndcg_u)\n",
    "    ndcg = np.array(user_ndcg)[:, 3]\n",
    "    print(np.mean(user_ndcg, axis=0))\n",
    "\n",
    "    user_sort_idx = np.argsort(MSV_DeepSVDD)\n",
    "    distribution_plot(np.arange(num_user), ndcg[user_sort_idx], bins=5)\n",
    "    gini_coefficient(ndcg[user_sort_idx])\n",
    "    print('')"
   ]
  },
  {
   "cell_type": "code",
   "execution_count": null,
   "metadata": {},
   "outputs": [],
   "source": []
  },
  {
   "cell_type": "code",
   "execution_count": null,
   "metadata": {},
   "outputs": [],
   "source": []
  },
  {
   "cell_type": "code",
   "execution_count": null,
   "metadata": {},
   "outputs": [],
   "source": []
  }
 ],
 "metadata": {
  "kernelspec": {
   "display_name": "Python 3",
   "language": "python",
   "name": "python3"
  },
  "language_info": {
   "codemirror_mode": {
    "name": "ipython",
    "version": 3
   },
   "file_extension": ".py",
   "mimetype": "text/x-python",
   "name": "python",
   "nbconvert_exporter": "python",
   "pygments_lexer": "ipython3",
   "version": "3.7.7"
  }
 },
 "nbformat": 4,
 "nbformat_minor": 4
}
